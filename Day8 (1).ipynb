{
  "nbformat": 4,
  "nbformat_minor": 0,
  "metadata": {
    "colab": {
      "name": "Day8.ipynb",
      "provenance": []
    },
    "kernelspec": {
      "name": "python3",
      "display_name": "Python 3"
    }
  },
  "cells": [
    {
      "cell_type": "code",
      "metadata": {
        "colab": {
          "base_uri": "https://localhost:8080/",
          "height": 212
        },
        "id": "EVd-JStHIsLL",
        "outputId": "54cbb58d-7430-44f4-bbbb-8c6bfe693d0b"
      },
      "source": [
        "#zero division\n",
        "a = 4\n",
        "b = a/0\n",
        "print(b)"
      ],
      "execution_count": 1,
      "outputs": [
        {
          "output_type": "error",
          "ename": "ZeroDivisionError",
          "evalue": "ignored",
          "traceback": [
            "\u001b[0;31m---------------------------------------------------------------------------\u001b[0m",
            "\u001b[0;31mZeroDivisionError\u001b[0m                         Traceback (most recent call last)",
            "\u001b[0;32m<ipython-input-1-ac99695bedbe>\u001b[0m in \u001b[0;36m<module>\u001b[0;34m()\u001b[0m\n\u001b[1;32m      1\u001b[0m \u001b[0;31m#zero division\u001b[0m\u001b[0;34m\u001b[0m\u001b[0;34m\u001b[0m\u001b[0;34m\u001b[0m\u001b[0m\n\u001b[1;32m      2\u001b[0m \u001b[0ma\u001b[0m \u001b[0;34m=\u001b[0m \u001b[0;36m4\u001b[0m\u001b[0;34m\u001b[0m\u001b[0;34m\u001b[0m\u001b[0m\n\u001b[0;32m----> 3\u001b[0;31m \u001b[0mb\u001b[0m \u001b[0;34m=\u001b[0m \u001b[0ma\u001b[0m\u001b[0;34m/\u001b[0m\u001b[0;36m0\u001b[0m\u001b[0;34m\u001b[0m\u001b[0;34m\u001b[0m\u001b[0m\n\u001b[0m\u001b[1;32m      4\u001b[0m \u001b[0mprint\u001b[0m\u001b[0;34m(\u001b[0m\u001b[0mb\u001b[0m\u001b[0;34m)\u001b[0m\u001b[0;34m\u001b[0m\u001b[0;34m\u001b[0m\u001b[0m\n",
            "\u001b[0;31mZeroDivisionError\u001b[0m: division by zero"
          ]
        }
      ]
    },
    {
      "cell_type": "code",
      "metadata": {
        "colab": {
          "base_uri": "https://localhost:8080/",
          "height": 128
        },
        "id": "TxKrGrkzIy_N",
        "outputId": "eec56ff2-def3-4ded-9283-4bd541e8e726"
      },
      "source": [
        "#intendation error\n",
        " print(a)"
      ],
      "execution_count": 3,
      "outputs": [
        {
          "output_type": "error",
          "ename": "IndentationError",
          "evalue": "ignored",
          "traceback": [
            "\u001b[0;36m  File \u001b[0;32m\"<ipython-input-3-81f4cd6bb482>\"\u001b[0;36m, line \u001b[0;32m2\u001b[0m\n\u001b[0;31m    print(a)\u001b[0m\n\u001b[0m    ^\u001b[0m\n\u001b[0;31mIndentationError\u001b[0m\u001b[0;31m:\u001b[0m unexpected indent\n"
          ]
        }
      ]
    },
    {
      "cell_type": "code",
      "metadata": {
        "colab": {
          "base_uri": "https://localhost:8080/",
          "height": 178
        },
        "id": "MDptSmUSJeCg",
        "outputId": "39a63ee7-eedd-48fb-8df1-613171742368"
      },
      "source": [
        "#name error\n",
        "print(y)"
      ],
      "execution_count": 4,
      "outputs": [
        {
          "output_type": "error",
          "ename": "NameError",
          "evalue": "ignored",
          "traceback": [
            "\u001b[0;31m---------------------------------------------------------------------------\u001b[0m",
            "\u001b[0;31mNameError\u001b[0m                                 Traceback (most recent call last)",
            "\u001b[0;32m<ipython-input-4-6301a336694b>\u001b[0m in \u001b[0;36m<module>\u001b[0;34m()\u001b[0m\n\u001b[1;32m      1\u001b[0m \u001b[0;31m#name error\u001b[0m\u001b[0;34m\u001b[0m\u001b[0;34m\u001b[0m\u001b[0;34m\u001b[0m\u001b[0m\n\u001b[0;32m----> 2\u001b[0;31m \u001b[0mprint\u001b[0m\u001b[0;34m(\u001b[0m\u001b[0my\u001b[0m\u001b[0;34m)\u001b[0m\u001b[0;34m\u001b[0m\u001b[0;34m\u001b[0m\u001b[0m\n\u001b[0m",
            "\u001b[0;31mNameError\u001b[0m: name 'y' is not defined"
          ]
        }
      ]
    },
    {
      "cell_type": "markdown",
      "metadata": {
        "id": "mfJRs9y-MiHc"
      },
      "source": [
        ""
      ]
    },
    {
      "cell_type": "code",
      "metadata": {
        "colab": {
          "base_uri": "https://localhost:8080/"
        },
        "id": "66p6gntpMi-7",
        "outputId": "e1f232d0-647e-469e-807c-6b4dec17f95f"
      },
      "source": [
        "def add(a,b):\n",
        "  try:\n",
        "    print(a+z)\n",
        "  except NameError:\n",
        "    print(\"Please define the variable\") #Nameerror\n",
        "def sub(a,b): \n",
        "    try:\n",
        "        print (a-b)\n",
        "    except TypeError:\n",
        "        print('please check the type of arguments')   \n",
        "def mul(a,b):\n",
        "  try:\n",
        "    print(a+z)\n",
        "  except:\n",
        "    print(\"Please define the variable\") \n",
        "def div(a,b):\n",
        "    try:\n",
        "        print(a/b)\n",
        "    except ZeroDivisionError:\n",
        "        print('cant divide by zero')        \n",
        "op=int(input(\"enter operation\\n 1.add\\n 2.sub\\n 3.mul\\n 4.div\\n\"))\n",
        "if op==1:\n",
        "    print(add(2,4))\n",
        "elif op==2:\n",
        "    print( sub(5,'6'))\n",
        "elif op==3:\n",
        "    print(mul(3,s))\n",
        "elif op==4:\n",
        "     print( div(9,0))\n",
        "else:\n",
        "    print(op,\"is not valid input\")"
      ],
      "execution_count": 5,
      "outputs": [
        {
          "output_type": "stream",
          "text": [
            "enter operation\n",
            " 1.add\n",
            " 2.sub\n",
            " 3.mul\n",
            " 4.div\n",
            "1\n",
            "Please define the variable\n",
            "None\n"
          ],
          "name": "stdout"
        }
      ]
    },
    {
      "cell_type": "code",
      "metadata": {
        "colab": {
          "base_uri": "https://localhost:8080/"
        },
        "id": "wC_4LrFwNz3i",
        "outputId": "f03f6f0c-582b-4a21-913b-67989d2443cd"
      },
      "source": [
        "try:\n",
        "  print(kee)\n",
        "except NameError:\n",
        "  print(\"Name error\")\n",
        "except:\n",
        "  print(\"error\")"
      ],
      "execution_count": 6,
      "outputs": [
        {
          "output_type": "stream",
          "text": [
            "Name error\n"
          ],
          "name": "stdout"
        }
      ]
    },
    {
      "cell_type": "markdown",
      "metadata": {
        "id": "spJxfLXYN8v4"
      },
      "source": [
        "some exception can be handled by python itself ,\n",
        "\n",
        "I such cases try-except scenario is not required\n"
      ]
    },
    {
      "cell_type": "code",
      "metadata": {
        "colab": {
          "base_uri": "https://localhost:8080/"
        },
        "id": "m1dxbDwKN-uM",
        "outputId": "9f5ca42d-4fc9-43b4-fec8-aeb36326f2c1"
      },
      "source": [
        "try:\n",
        "  number1 = int(input())\n",
        "except:\n",
        "  print(\"Some error\")\n",
        "else:\n",
        "  print(\"No error\")"
      ],
      "execution_count": 7,
      "outputs": [
        {
          "output_type": "stream",
          "text": [
            "1\n",
            "No error\n"
          ],
          "name": "stdout"
        }
      ]
    }
  ]
}
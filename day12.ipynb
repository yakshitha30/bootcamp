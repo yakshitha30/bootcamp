{
  "nbformat": 4,
  "nbformat_minor": 0,
  "metadata": {
    "colab": {
      "name": "day12.ipynb",
      "provenance": []
    },
    "kernelspec": {
      "name": "python3",
      "display_name": "Python 3"
    }
  },
  "cells": [
    {
      "cell_type": "markdown",
      "metadata": {
        "id": "_YJPVhX7PEJb"
      },
      "source": [
        "example.json\n",
        "[\n",
        "\n",
        "    [\n",
        "\n",
        "    {\"name\":\"yakshitha\", \"age\":19,\"city\":\"chennai\"},\n",
        "    [1,2,3],\n",
        "    [3,2,1],\n",
        "    \"Myself\",\n",
        "    35,\n",
        "    35.5,\n",
        "    true,\n",
        "    null\n",
        "    ]\n",
        "]"
      ]
    },
    {
      "cell_type": "code",
      "metadata": {
        "id": "tmcjGz3QN1do"
      },
      "source": [
        "import sqlite3\n",
        "import json"
      ],
      "execution_count": 4,
      "outputs": []
    },
    {
      "cell_type": "code",
      "metadata": {
        "colab": {
          "base_uri": "https://localhost:8080/"
        },
        "id": "iudT8TWzODN4",
        "outputId": "1b0a4233-8260-42ec-d760-e976db0c07e4"
      },
      "source": [
        "con = sqlite3.connect(\"test.db\")\n",
        "print(\"Database Opened\")"
      ],
      "execution_count": 5,
      "outputs": [
        {
          "output_type": "stream",
          "text": [
            "Database Opened\n"
          ],
          "name": "stdout"
        }
      ]
    },
    {
      "cell_type": "code",
      "metadata": {
        "colab": {
          "base_uri": "https://localhost:8080/"
        },
        "id": "D4FPf0KcOLFF",
        "outputId": "6b3fd674-1223-448b-cad2-6d3a8e19333d"
      },
      "source": [
        "cursor = con.cursor()\n",
        "try:\n",
        "    cursor.execute(\"CREATE TABLE MINE\"\n",
        "                   \"(\"\n",
        "                   + \"dictinary BLOB,\"\n",
        "                   + \"list BLOB,\"\n",
        "                   + \"tuple BLOB,\"\n",
        "                   + \"string varchar(50),\"\n",
        "                   + \"Integer INTEGER,\"\n",
        "                   + \"flo FLOAT,\"\n",
        "                   + \"Bool BOOLEAN,\"\n",
        "                   + \"None BLOB\"\n",
        "                     \");\")\n",
        "except Exception as e:\n",
        "    print(\"Error :\", e)\n",
        "else:\n",
        "    print(\"Table created\")"
      ],
      "execution_count": 6,
      "outputs": [
        {
          "output_type": "stream",
          "text": [
            "Table created\n"
          ],
          "name": "stdout"
        }
      ]
    },
    {
      "cell_type": "code",
      "metadata": {
        "id": "aZxvj1JnOd0l"
      },
      "source": [
        "datafile = open(\"example.json\")\n",
        "dataset = json.load(datafile)\n",
        "dataframe = []\n",
        "for row in dataset:\n",
        "    data = (str(row[0]), str(row[1]), str(row[2]), str(row[3]), int(row[4]),\n",
        "            float(row[5]), bool(row[6]), row[7])\n",
        "    dataframe.append(data)"
      ],
      "execution_count": null,
      "outputs": []
    },
    {
      "cell_type": "code",
      "metadata": {
        "id": "rmWnvAGYOe8l"
      },
      "source": [
        "try:\n",
        "    cursor.executemany(\"INSERT INTO MINE VALUES (?,?,?,?,?,?,?,?)\", dataframe)\n",
        "except Exception as e:\n",
        "    print(\"Error : \", e)\n",
        "else:\n",
        "    con.commit()\n",
        "    print(\"Data inserted\")\n",
        "Data inserted"
      ],
      "execution_count": null,
      "outputs": []
    },
    {
      "cell_type": "code",
      "metadata": {
        "colab": {
          "base_uri": "https://localhost:8080/"
        },
        "id": "wsqnWAnHOj9z",
        "outputId": "9ce5bab0-b033-4c6e-8ea4-e5c154d655e0"
      },
      "source": [
        "try:\n",
        "    cursor.execute(\"SELECT * from MINE\")\n",
        "except Exception as e:\n",
        "    print(\"Error : \", e)\n",
        "else:\n",
        "    for row in cursor.fetchall():\n",
        "        print(row)"
      ],
      "execution_count": 19,
      "outputs": [
        {
          "output_type": "stream",
          "text": [
            "Error :  Cannot operate on a closed database.\n"
          ],
          "name": "stdout"
        }
      ]
    },
    {
      "cell_type": "code",
      "metadata": {
        "id": "cwxon9BbO1dP"
      },
      "source": [
        "con.close()"
      ],
      "execution_count": 15,
      "outputs": []
    }
  ]
}
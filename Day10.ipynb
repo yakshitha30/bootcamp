{
  "nbformat": 4,
  "nbformat_minor": 0,
  "metadata": {
    "colab": {
      "name": "Day10.ipynb",
      "provenance": []
    },
    "kernelspec": {
      "name": "python3",
      "display_name": "Python 3"
    }
  },
  "cells": [
    {
      "cell_type": "code",
      "metadata": {
        "colab": {
          "base_uri": "https://localhost:8080/"
        },
        "id": "AkovOMQMTGY2",
        "outputId": "c89614cd-439e-4156-bfe0-e9557886d51a"
      },
      "source": [
        "import re\n",
        "string = input()\n",
        "pattern = re.compile(\"[A-Za-z0-9]+\")\n",
        "if pattern.fullmatch(string):\n",
        "  print(\"True\")\n",
        "else:\n",
        "  print(\"False\")"
      ],
      "execution_count": 1,
      "outputs": [
        {
          "output_type": "stream",
          "text": [
            "57thd\n",
            "True\n"
          ],
          "name": "stdout"
        }
      ]
    },
    {
      "cell_type": "code",
      "metadata": {
        "colab": {
          "base_uri": "https://localhost:8080/"
        },
        "id": "ag4zppGHajxK",
        "outputId": "98461ff9-5c1d-403b-c4f1-022c2fb02100"
      },
      "source": [
        "pattern = 'ab'\n",
        "text = input()\n",
        "if re.search(pattern,text):\n",
        "    print('match found')\n",
        "else:\n",
        "    print('not found')"
      ],
      "execution_count": 2,
      "outputs": [
        {
          "output_type": "stream",
          "text": [
            "ssfsgffg\n",
            "not found\n"
          ],
          "name": "stdout"
        }
      ]
    },
    {
      "cell_type": "code",
      "metadata": {
        "colab": {
          "base_uri": "https://localhost:8080/"
        },
        "id": "MGYuxhxubJyu",
        "outputId": "3f627f3d-816b-440c-9c4c-e88c62b35384"
      },
      "source": [
        "string = input()\n",
        "r=re.compile(r\".*[0-9]$\")\n",
        "if r.match(string):\n",
        "  print(\"True\")\n",
        "else:\n",
        "  print(\"False\")"
      ],
      "execution_count": 3,
      "outputs": [
        {
          "output_type": "stream",
          "text": [
            "hdhuewoek997\n",
            "True\n"
          ],
          "name": "stdout"
        }
      ]
    },
    {
      "cell_type": "code",
      "metadata": {
        "colab": {
          "base_uri": "https://localhost:8080/"
        },
        "id": "FUq16e32bSC2",
        "outputId": "3311df5a-ccaf-4fd8-9732-5be71a710f9d"
      },
      "source": [
        "pattern=r\"([0-9]{1,3})\"\n",
        "t = \"4,21,and 567 are important questions\"\n",
        "s = re.finditer(pattern,t)\n",
        "print(\"Numbers with length 1 to 3 in the string : \")\n",
        "for n in s:\n",
        "  print(n.group(0))"
      ],
      "execution_count": 4,
      "outputs": [
        {
          "output_type": "stream",
          "text": [
            "Numbers with length 1 to 3 in the string : \n",
            "4\n",
            "21\n",
            "567\n"
          ],
          "name": "stdout"
        }
      ]
    },
    {
      "cell_type": "code",
      "metadata": {
        "colab": {
          "base_uri": "https://localhost:8080/"
        },
        "id": "htPXIytrberj",
        "outputId": "0e884066-1d51-4f24-8fc9-ea06dd3e762e"
      },
      "source": [
        "import re\n",
        "reg = r'^[A-Z]*$'\n",
        "s = input()\n",
        "if re.search(reg,s): \n",
        "  print('String contains only uppercase letters')\n",
        "else:\n",
        "  print('String does not contains only uppercase letters')"
      ],
      "execution_count": 5,
      "outputs": [
        {
          "output_type": "stream",
          "text": [
            "dhsdh\n",
            "String does not contains only uppercase letters\n"
          ],
          "name": "stdout"
        }
      ]
    }
  ]
}
{
  "nbformat": 4,
  "nbformat_minor": 0,
  "metadata": {
    "colab": {
      "name": "Day11.ipynb",
      "provenance": []
    },
    "kernelspec": {
      "name": "python3",
      "display_name": "Python 3"
    }
  },
  "cells": [
    {
      "cell_type": "code",
      "metadata": {
        "colab": {
          "base_uri": "https://localhost:8080/"
        },
        "id": "25EWFdyUTEDS",
        "outputId": "33d51188-98d4-447f-a3c1-643049a9a78d"
      },
      "source": [
        "lst1 = list(map(int,input(\"List 1 : \").strip().split()))\n",
        "lst2 = list(map(int,input(\"List 2 : \").strip().split()))\n",
        "new_list = list(zip(lst1,lst2))\n",
        "print(\"Merged list of tuples : \",new_list)"
      ],
      "execution_count": 1,
      "outputs": [
        {
          "output_type": "stream",
          "text": [
            "List 1 : 1 2 3 4\n",
            "List 2 : 5 6 7 8\n",
            "Merged list of tuples :  [(1, 5), (2, 6), (3, 7), (4, 8)]\n"
          ],
          "name": "stdout"
        }
      ]
    },
    {
      "cell_type": "code",
      "metadata": {
        "id": "sxbkOgS9ceF2",
        "outputId": "819edd59-e0ee-431d-e5e9-c7992c76c7fc",
        "colab": {
          "base_uri": "https://localhost:8080/"
        }
      },
      "source": [
        "ran = list(range(1,9))\n",
        "lst = list(map(str,input(\"List : \").strip().split()))\n",
        "new_lst = list(zip(ran,lst))\n",
        "print(new_lst)"
      ],
      "execution_count": 2,
      "outputs": [
        {
          "output_type": "stream",
          "text": [
            "List : a b c d e\n",
            "[(1, 'a'), (2, 'b'), (3, 'c'), (4, 'd'), (5, 'e')]\n"
          ],
          "name": "stdout"
        }
      ]
    },
    {
      "cell_type": "code",
      "metadata": {
        "id": "d6St0na4clCU",
        "outputId": "344821bd-315e-429f-863a-230a4ad09acb",
        "colab": {
          "base_uri": "https://localhost:8080/"
        }
      },
      "source": [
        "unsorted_list = list(map(int,input(\"Enter the Unsorted List : \").strip().split()))\n",
        "sorted_list = sorted(unsorted_list)\n",
        "print(\"The Sorted list is : \",sorted_list)"
      ],
      "execution_count": 3,
      "outputs": [
        {
          "output_type": "stream",
          "text": [
            "Enter the Unsorted List : 9 7 6 5 4 3 \n",
            "The Sorted list is :  [3, 4, 5, 6, 7, 9]\n"
          ],
          "name": "stdout"
        }
      ]
    },
    {
      "cell_type": "code",
      "metadata": {
        "id": "hNW6NfwXcq6o",
        "outputId": "0fefe52e-1225-4bd9-8537-6f5b895784bc",
        "colab": {
          "base_uri": "https://localhost:8080/"
        }
      },
      "source": [
        "l = list(map(int,input(\"List : \").strip().split()))\n",
        "even_lst = list(filter(lambda x: x%2!=0,l))\n",
        "print(\"List with only even numbers : \",even_lst)"
      ],
      "execution_count": 4,
      "outputs": [
        {
          "output_type": "stream",
          "text": [
            "List : 1 3 5 7 9\n",
            "List with only even numbers :  [1, 3, 5, 7, 9]\n"
          ],
          "name": "stdout"
        }
      ]
    }
  ]
}
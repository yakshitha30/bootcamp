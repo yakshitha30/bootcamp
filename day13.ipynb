{
  "nbformat": 4,
  "nbformat_minor": 0,
  "metadata": {
    "colab": {
      "name": "day13.ipynb",
      "provenance": []
    },
    "kernelspec": {
      "name": "python3",
      "display_name": "Python 3"
    }
  },
  "cells": [
    {
      "cell_type": "code",
      "metadata": {
        "colab": {
          "base_uri": "https://localhost:8080/"
        },
        "id": "JJAT13ltkOt6",
        "outputId": "ff66539d-61b8-48b7-d02d-16554b37fbf6"
      },
      "source": [
        "class Cafetaria:\n",
        "\n",
        "    def __init__(self, water, milk, coffee, money):\n",
        "        self.water = water\n",
        "        self.milk = milk\n",
        "        self.coffee = coffee\n",
        "        self.money = money\n",
        "        self.start()\n",
        "    \n",
        "    def start(self):\n",
        "      self.choice = input(\"What do you want to buy? espresso / latte / cappuccino : \\n\")\n",
        "      if self.choice == 'espresso':\n",
        "        self.reduced = [200, 150, 24, 2.5] # water, milk, coffee, money\n",
        "        if self.resource():   \n",
        "          self.pay_money()\n",
        "          self.menu()\n",
        "\n",
        "      elif self.choice == 'latte':\n",
        "        self.reduced = [200, 150, 30, 3.5]\n",
        "        if self.resource():\n",
        "          self.pay_money()\n",
        "          self.menu()\n",
        "\n",
        "      elif self.choice == \"cappuccino\":\n",
        "        self.reduced = [150, 250, 24, 4.5]\n",
        "        if self.resource():\n",
        "          self.pay_money() \n",
        "          self.menu()\n",
        "\n",
        "      elif self.choice == \"report\":\n",
        "        print(f\"\\nThe coffee machine has: \")\n",
        "        print(f\"Water : {self.water} ml\")\n",
        "        print(f\"Milk : {self.milk} ml\")\n",
        "        print(f\"Coffee : {self.coffee} g\")\n",
        "        print(f\"Money : ${self.money} \")\n",
        "        self.menu()\n",
        "\n",
        "      elif self.choice == \"off\":\n",
        "        return 0\n",
        "\n",
        "    def menu(self): # returns to the menu \n",
        "        print()\n",
        "        self.start()\n",
        "\n",
        "    def resource(self): # checks if enough resourse is there to make coffee\n",
        "        self.not_available = \"\" \n",
        "        if self.water - self.reduced[0] < 0:\n",
        "            self.not_available = \"water\"\n",
        "        elif self.milk - self.reduced[1] < 0:\n",
        "            self.not_available = \"milk\"\n",
        "        elif self.coffee - self.reduced[2] < 0:\n",
        "            self.not_available = \"coffee\"\n",
        "        \n",
        "        if self.not_available != \"\": \n",
        "            print(f\"Sorry, not enough {self.not_available}!\")\n",
        "            return False\n",
        "        else: # if everything is enough to make the coffee\n",
        "            print(\"Please insert the coins : \")\n",
        "            return True\n",
        "\n",
        "    def deduct_resource(self):\n",
        "        self.water -= self.reduced[0]\n",
        "        self.milk -= self.reduced[1]\n",
        "        self.coffee -= self.reduced[2]\n",
        "        self.money += self.reduced[3]\n",
        "\n",
        "    def pay_money(self):\n",
        "      self.q = int(input(\"Quarters : \"))\n",
        "      self.d = int(input(\"Dimes : \"))\n",
        "      self.n = int(input(\"nickles : \"))\n",
        "      self.p = int(input(\"pennies : \"))\n",
        "      self.t = (self.q*0.25) + (self.d*0.10) + (self.n*0.05) + (self.p*0.01) \n",
        "      #quarters = $0.25, dimes = $0.10, nickles = $0.05, pennies = $0.01\n",
        "      if (self.t == 2.5):\n",
        "        print(\"Here is your \" + self.choice + \" Enjoy! \")\n",
        "        self.deduct_resource()\n",
        "      elif (self.t > 2.5):\n",
        "        self.b = self.t - 2.5\n",
        "        print(\"Here is your \" + self.choice + \" Enjoy! \")\n",
        "        print(\"Here is {:.2f} dollars in change\".format(self.b))\n",
        "        self.deduct_resource()\n",
        "      elif (self.t < 2.5):\n",
        "        print(\"Sorry that's not the enough money\")\n",
        "\n",
        "Cafetaria(500, 350, 100, 0)"
      ],
      "execution_count": 2,
      "outputs": [
        {
          "output_type": "stream",
          "text": [
            "What do you want to buy? espresso / latte / cappuccino : \n",
            "report\n",
            "\n",
            "The coffee machine has: \n",
            "Water : 500 ml\n",
            "Milk : 350 ml\n",
            "Coffee : 100 g\n",
            "Money : $0 \n",
            "\n",
            "What do you want to buy? espresso / latte / cappuccino : \n",
            "latte\n",
            "Please insert the coins : \n",
            "Quarters : 40\n",
            "Dimes : 3\n",
            "nickles : 2\n",
            "pennies : 1\n",
            "Here is your latte Enjoy! \n",
            "Here is 7.91 dollars in change\n",
            "\n",
            "What do you want to buy? espresso / latte / cappuccino : \n",
            "off\n"
          ],
          "name": "stdout"
        },
        {
          "output_type": "execute_result",
          "data": {
            "text/plain": [
              "<__main__.Cafetaria at 0x7f05906caac8>"
            ]
          },
          "metadata": {
            "tags": []
          },
          "execution_count": 2
        }
      ]
    }
  ]
}
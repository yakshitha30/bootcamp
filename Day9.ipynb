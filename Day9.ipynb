{
  "nbformat": 4,
  "nbformat_minor": 0,
  "metadata": {
    "colab": {
      "name": "Day9.ipynb",
      "provenance": []
    },
    "kernelspec": {
      "name": "python3",
      "display_name": "Python 3"
    }
  },
  "cells": [
    {
      "cell_type": "code",
      "metadata": {
        "colab": {
          "base_uri": "https://localhost:8080/"
        },
        "id": "qOwKjpx-RUIb",
        "outputId": "f44f5165-5116-4c22-b52d-4a37530d25ec"
      },
      "source": [
        "c = lambda a,b:a*b\n",
        "print(c(3,5))"
      ],
      "execution_count": 3,
      "outputs": [
        {
          "output_type": "stream",
          "text": [
            "15\n"
          ],
          "name": "stdout"
        }
      ]
    },
    {
      "cell_type": "code",
      "metadata": {
        "id": "gMNkQfxAWob1",
        "outputId": "d5df1c4d-68e1-479a-cf92-a4d0e498a485",
        "colab": {
          "base_uri": "https://localhost:8080/"
        }
      },
      "source": [
        "def fibonacci(count):\n",
        "    s = [0, 1]\n",
        "\n",
        "    any(map(lambda _: s.append(sum(s[-2:])), range(2, count)))\n",
        "\n",
        "    return s[:count]\n",
        "\n",
        "print(fibonacci(int(input())))"
      ],
      "execution_count": 4,
      "outputs": [
        {
          "output_type": "stream",
          "text": [
            "5\n",
            "[0, 1, 1, 2, 3]\n"
          ],
          "name": "stdout"
        }
      ]
    },
    {
      "cell_type": "code",
      "metadata": {
        "id": "1Pr0-r4OXXH-",
        "outputId": "b5a76fdd-9636-40dc-808d-d4b847c01b68",
        "colab": {
          "base_uri": "https://localhost:8080/"
        }
      },
      "source": [
        "lst = [1,2,3,4]\n",
        "n=int(input(\"Enter the number : \"))\n",
        "lst2 = list(map(lambda x:x*n,lst))\n",
        "print(\"List after multiplying with given number\", lst2)"
      ],
      "execution_count": 8,
      "outputs": [
        {
          "output_type": "stream",
          "text": [
            "Enter the number : 5\n",
            "List after multiplying with given number [5, 10, 15, 20]\n"
          ],
          "name": "stdout"
        }
      ]
    },
    {
      "cell_type": "code",
      "metadata": {
        "id": "jNY42DeqYAuQ",
        "outputId": "4237236f-8769-4d1e-8946-0b6232f14a57",
        "colab": {
          "base_uri": "https://localhost:8080/"
        }
      },
      "source": [
        "l = [1,9,18,27,24,67,90]\n",
        "mul = list(filter(lambda x:(x%9 == 0),l))\n",
        "print(\"The numbers divisible by 9 : \",mul)"
      ],
      "execution_count": 9,
      "outputs": [
        {
          "output_type": "stream",
          "text": [
            "The numbers divisible by 9 :  [9, 18, 27, 90]\n"
          ],
          "name": "stdout"
        }
      ]
    },
    {
      "cell_type": "code",
      "metadata": {
        "id": "Wj7xZQQ5YHpF",
        "outputId": "8d475613-8be7-48ee-ca8c-ad98021014ab",
        "colab": {
          "base_uri": "https://localhost:8080/"
        }
      },
      "source": [
        "l = [1,2,3,4,5,6,7,8,9]\n",
        "even = list(filter(lambda x:(x%2 == 0),l))\n",
        "print(\"The count of even numbers in a given list : \",len(even))"
      ],
      "execution_count": 10,
      "outputs": [
        {
          "output_type": "stream",
          "text": [
            "The count of even numbers in a given list :  4\n"
          ],
          "name": "stdout"
        }
      ]
    }
  ]
}